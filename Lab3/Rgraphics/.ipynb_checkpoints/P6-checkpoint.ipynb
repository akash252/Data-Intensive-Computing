{
 "cells": [
  {
   "cell_type": "code",
   "execution_count": 17,
   "metadata": {
    "collapsed": false
   },
   "outputs": [],
   "source": [
    "pew_data <- read.csv(\"C:/Users/Akash Yeleswarapu/Documents/June 10-July 12, 2015 - Gaming, Jobs and Broadband/June 10-July 12, 2015 - Gaming, Jobs and Broadband - CSV.csv\")"
   ]
  },
  {
   "cell_type": "code",
   "execution_count": 18,
   "metadata": {
    "collapsed": false
   },
   "outputs": [
    {
     "data": {
      "text/plain": [
       "   ï..psraid          sample        int_date          lang       usr    \n",
       " Min.   :100006   Min.   :1.00   Min.   :61015   Min.   :1.000   R:375  \n",
       " 1st Qu.:102765   1st Qu.:1.00   1st Qu.:62115   1st Qu.:1.000   S:971  \n",
       " Median :201182   Median :2.00   Median :62415   Median :1.000   U:655  \n",
       " Mean   :167354   Mean   :1.65   Mean   :63683   Mean   :1.051          \n",
       " 3rd Qu.:203261   3rd Qu.:2.00   3rd Qu.:62915   3rd Qu.:1.000          \n",
       " Max.   :205508   Max.   :2.00   Max.   :71215   Max.   :2.000          \n",
       "                                                                        \n",
       "    cregion          state            form            sex       \n",
       " Min.   :1.000   Min.   : 1.00   Min.   :1.000   Min.   :1.000  \n",
       " 1st Qu.:2.000   1st Qu.:13.00   1st Qu.:1.000   1st Qu.:1.000  \n",
       " Median :3.000   Median :29.00   Median :2.000   Median :2.000  \n",
       " Mean   :2.667   Mean   :28.82   Mean   :1.515   Mean   :1.506  \n",
       " 3rd Qu.:3.000   3rd Qu.:42.00   3rd Qu.:2.000   3rd Qu.:2.000  \n",
       " Max.   :4.000   Max.   :56.00   Max.   :2.000   Max.   :2.000  \n",
       "                                                                \n",
       "       q1              q3           eminuse          intmob     \n",
       " Min.   :1.000   Min.   :1.000   Min.   :1.000   Min.   :1.000  \n",
       " 1st Qu.:1.000   1st Qu.:2.000   1st Qu.:1.000   1st Qu.:1.000  \n",
       " Median :2.000   Median :2.000   Median :1.000   Median :1.000  \n",
       " Mean   :1.824   Mean   :2.568   Mean   :1.169   Mean   :1.266  \n",
       " 3rd Qu.:2.000   3rd Qu.:3.000   3rd Qu.:1.000   3rd Qu.:2.000  \n",
       " Max.   :9.000   Max.   :9.000   Max.   :9.000   Max.   :9.000  \n",
       "                                                                \n",
       "    intfreq         home4nw        bbhome1         bbhome2         bbhome3a   \n",
       " Min.   :1.000   Min.   :1.00   Min.   :1.000   Min.   :1.000   Min.   :1.00  \n",
       " 1st Qu.:2.000   1st Qu.:1.00   1st Qu.:2.000   1st Qu.:1.000   1st Qu.:1.00  \n",
       " Median :2.000   Median :1.00   Median :2.000   Median :1.000   Median :2.00  \n",
       " Mean   :2.336   Mean   :1.14   Mean   :2.243   Mean   :1.646   Mean   :2.22  \n",
       " 3rd Qu.:3.000   3rd Qu.:1.00   3rd Qu.:2.000   3rd Qu.:2.000   3rd Qu.:3.00  \n",
       " Max.   :9.000   Max.   :8.00   Max.   :9.000   Max.   :8.000   Max.   :9.00  \n",
       " NA's   :261     NA's   :261    NA's   :492     NA's   :1953                  \n",
       "    bbhome3b        bbhome3c        bbhome3d        bbhome3e       device1a    \n",
       " Min.   :1.000   Min.   :1.000   Min.   :1.000   Min.   :1.00   Min.   :1.000  \n",
       " 1st Qu.:1.000   1st Qu.:1.000   1st Qu.:1.000   1st Qu.:1.00   1st Qu.:1.000  \n",
       " Median :2.000   Median :2.000   Median :2.000   Median :2.00   Median :1.000  \n",
       " Mean   :2.128   Mean   :2.251   Mean   :2.184   Mean   :2.13   Mean   :1.167  \n",
       " 3rd Qu.:3.000   3rd Qu.:3.000   3rd Qu.:3.000   3rd Qu.:3.00   3rd Qu.:1.000  \n",
       " Max.   :9.000   Max.   :9.000   Max.   :9.000   Max.   :9.00   Max.   :9.000  \n",
       "                                                                NA's   :1300   \n",
       "     smart1            q4            bbsmart1        bbsmart2    \n",
       " Min.   :1.000   Min.   : 1.000   Min.   :1.000   Min.   :1.000  \n",
       " 1st Qu.:1.000   1st Qu.: 1.000   1st Qu.:1.000   1st Qu.:2.000  \n",
       " Median :1.000   Median : 2.000   Median :2.000   Median :2.000  \n",
       " Mean   :1.676   Mean   : 9.663   Mean   :2.045   Mean   :2.059  \n",
       " 3rd Qu.:2.000   3rd Qu.: 4.000   3rd Qu.:2.000   3rd Qu.:2.000  \n",
       " Max.   :9.000   Max.   :99.000   Max.   :9.000   Max.   :9.000  \n",
       " NA's   :98      NA's   :1425     NA's   :1396    NA's   :1396   \n",
       "   bbsmart3a       bbsmart3b       bbsmart3c       bbsmart3d    \n",
       " Min.   :1.000   Min.   :1.000   Min.   :1.000   Min.   :1.000  \n",
       " 1st Qu.:1.000   1st Qu.:1.000   1st Qu.:1.000   1st Qu.:1.000  \n",
       " Median :1.000   Median :2.000   Median :1.000   Median :2.000  \n",
       " Mean   :1.896   Mean   :1.964   Mean   :1.775   Mean   :1.884  \n",
       " 3rd Qu.:2.000   3rd Qu.:2.000   3rd Qu.:2.000   3rd Qu.:2.000  \n",
       " Max.   :9.000   Max.   :9.000   Max.   :9.000   Max.   :9.000  \n",
       " NA's   :1396    NA's   :1396    NA's   :1757    NA's   :1396   \n",
       "   bbsmart3e       bbsmart3f        bbsmart4         cable1     \n",
       " Min.   :1.000   Min.   :1.000   Min.   :1.000   Min.   :1.000  \n",
       " 1st Qu.:2.000   1st Qu.:1.000   1st Qu.:1.000   1st Qu.:1.000  \n",
       " Median :2.000   Median :2.000   Median :3.000   Median :1.000  \n",
       " Mean   :2.792   Mean   :2.177   Mean   :3.187   Mean   :1.226  \n",
       " 3rd Qu.:2.000   3rd Qu.:2.000   3rd Qu.:5.000   3rd Qu.:1.000  \n",
       " Max.   :9.000   Max.   :9.000   Max.   :9.000   Max.   :8.000  \n",
       " NA's   :1396    NA's   :1396    NA's   :1600                   \n",
       "     cable2         cable3a         cable3b         cable3c     \n",
       " Min.   :1.000   Min.   :1.000   Min.   :1.000   Min.   :1.000  \n",
       " 1st Qu.:1.000   1st Qu.:1.000   1st Qu.:1.000   1st Qu.:1.000  \n",
       " Median :1.000   Median :2.000   Median :1.000   Median :1.000  \n",
       " Mean   :1.425   Mean   :1.723   Mean   :1.416   Mean   :1.624  \n",
       " 3rd Qu.:2.000   3rd Qu.:2.000   3rd Qu.:2.000   3rd Qu.:2.000  \n",
       " Max.   :8.000   Max.   :9.000   Max.   :9.000   Max.   :9.000  \n",
       " NA's   :1578    NA's   :1578    NA's   :1578    NA's   :1578   \n",
       "     act19           act87a          act87b          act137     \n",
       " Min.   :1.000   Min.   :1.000   Min.   :1.000   Min.   :1.000  \n",
       " 1st Qu.:1.000   1st Qu.:1.000   1st Qu.:1.000   1st Qu.:1.000  \n",
       " Median :1.000   Median :1.000   Median :1.000   Median :2.000  \n",
       " Mean   :1.436   Mean   :1.291   Mean   :1.381   Mean   :1.532  \n",
       " 3rd Qu.:2.000   3rd Qu.:2.000   3rd Qu.:2.000   3rd Qu.:2.000  \n",
       " Max.   :8.000   Max.   :8.000   Max.   :8.000   Max.   :8.000  \n",
       " NA's   :261     NA's   :1174    NA's   :1088    NA's   :261    \n",
       "      q5a             q5b             q5c             q5d            q5e      \n",
       " Min.   :1.000   Min.   :1.000   Min.   :1.000   Min.   :1.00   Min.   :1.00  \n",
       " 1st Qu.:1.000   1st Qu.:1.000   1st Qu.:1.000   1st Qu.:1.00   1st Qu.:2.00  \n",
       " Median :2.000   Median :2.000   Median :1.000   Median :2.00   Median :2.00  \n",
       " Mean   :1.699   Mean   :1.577   Mean   :1.342   Mean   :1.66   Mean   :1.79  \n",
       " 3rd Qu.:2.000   3rd Qu.:2.000   3rd Qu.:2.000   3rd Qu.:2.00   3rd Qu.:2.00  \n",
       " Max.   :8.000   Max.   :8.000   Max.   :8.000   Max.   :2.00   Max.   :2.00  \n",
       " NA's   :1068    NA's   :1068    NA's   :1068    NA's   :1031   NA's   :1031  \n",
       "      q5f            date1a          date2a          date3a     \n",
       " Min.   :1.000   Min.   :1.000   Min.   :1.000   Min.   :1.000  \n",
       " 1st Qu.:1.000   1st Qu.:2.000   1st Qu.:2.000   1st Qu.:1.000  \n",
       " Median :2.000   Median :2.000   Median :2.000   Median :2.000  \n",
       " Mean   :1.541   Mean   :1.878   Mean   :1.905   Mean   :1.684  \n",
       " 3rd Qu.:2.000   3rd Qu.:2.000   3rd Qu.:2.000   3rd Qu.:2.000  \n",
       " Max.   :9.000   Max.   :9.000   Max.   :8.000   Max.   :9.000  \n",
       " NA's   :1031    NA's   :261     NA's   :674                    \n",
       "     date3b          date4a          date4b          date4c     \n",
       " Min.   :1.000   Min.   :1.000   Min.   :1.000   Min.   :1.000  \n",
       " 1st Qu.:1.000   1st Qu.:1.000   1st Qu.:1.000   1st Qu.:2.000  \n",
       " Median :2.000   Median :1.000   Median :2.000   Median :2.000  \n",
       " Mean   :1.773   Mean   :1.869   Mean   :1.991   Mean   :2.195  \n",
       " 3rd Qu.:2.000   3rd Qu.:2.000   3rd Qu.:2.000   3rd Qu.:2.000  \n",
       " Max.   :9.000   Max.   :9.000   Max.   :9.000   Max.   :9.000  \n",
       "                                                                \n",
       "     date4d          date4e         date4f          game1           game2a    \n",
       " Min.   :1.000   Min.   :1.00   Min.   :1.000   Min.   :1.000   Min.   :1.00  \n",
       " 1st Qu.:1.000   1st Qu.:1.00   1st Qu.:1.000   1st Qu.:1.000   1st Qu.:2.00  \n",
       " Median :2.000   Median :2.00   Median :1.000   Median :2.000   Median :2.00  \n",
       " Mean   :2.397   Mean   :2.15   Mean   :1.811   Mean   :1.554   Mean   :3.34  \n",
       " 3rd Qu.:2.000   3rd Qu.:2.00   3rd Qu.:2.000   3rd Qu.:2.000   3rd Qu.:3.00  \n",
       " Max.   :9.000   Max.   :9.00   Max.   :9.000   Max.   :9.000   Max.   :9.00  \n",
       "                                                                              \n",
       "     game2b          game2c          game2d          game2e     \n",
       " Min.   :1.000   Min.   :1.000   Min.   :1.000   Min.   :1.000  \n",
       " 1st Qu.:1.000   1st Qu.:2.000   1st Qu.:2.000   1st Qu.:2.000  \n",
       " Median :2.000   Median :3.000   Median :3.000   Median :8.000  \n",
       " Mean   :3.058   Mean   :4.671   Mean   :3.993   Mean   :5.238  \n",
       " 3rd Qu.:3.000   3rd Qu.:8.000   3rd Qu.:8.000   3rd Qu.:8.000  \n",
       " Max.   :9.000   Max.   :9.000   Max.   :9.000   Max.   :9.000  \n",
       "                                                                \n",
       "     game2f          game3a          game3b          game4      \n",
       " Min.   :1.000   Min.   :1.000   Min.   :1.000   Min.   :1.000  \n",
       " 1st Qu.:2.000   1st Qu.:1.000   1st Qu.:1.000   1st Qu.:2.000  \n",
       " Median :3.000   Median :1.000   Median :2.000   Median :2.000  \n",
       " Mean   :3.899   Mean   :2.134   Mean   :2.128   Mean   :1.938  \n",
       " 3rd Qu.:8.000   3rd Qu.:2.000   3rd Qu.:2.000   3rd Qu.:2.000  \n",
       " Max.   :9.000   Max.   :9.000   Max.   :9.000   Max.   :8.000  \n",
       "                                                 NA's   :1076   \n",
       "     emplnw          emptype1         emptype2        emptype3    \n",
       " Min.   : 1.000   Min.   : 1.000   Min.   :1.000   Min.   :1.000  \n",
       " 1st Qu.: 1.000   1st Qu.: 1.000   1st Qu.:1.000   1st Qu.:1.000  \n",
       " Median : 2.000   Median : 3.000   Median :2.000   Median :1.000  \n",
       " Mean   : 2.769   Mean   : 3.419   Mean   :1.605   Mean   :2.249  \n",
       " 3rd Qu.: 3.000   3rd Qu.: 4.000   3rd Qu.:2.000   3rd Qu.:4.000  \n",
       " Max.   :99.000   Max.   :98.000   Max.   :8.000   Max.   :8.000  \n",
       "                  NA's   :901      NA's   :901     NA's   :1347   \n",
       "      stud           job1a           job1b           job1c      \n",
       " Min.   :1.000   Min.   :1.000   Min.   :1.000   Min.   :1.000  \n",
       " 1st Qu.:3.000   1st Qu.:1.000   1st Qu.:1.000   1st Qu.:1.000  \n",
       " Median :3.000   Median :1.000   Median :1.000   Median :1.000  \n",
       " Mean   :2.829   Mean   :1.813   Mean   :1.584   Mean   :1.714  \n",
       " 3rd Qu.:3.000   3rd Qu.:2.000   3rd Qu.:2.000   3rd Qu.:2.000  \n",
       " Max.   :9.000   Max.   :9.000   Max.   :9.000   Max.   :9.000  \n",
       " NA's   :5       NA's   :632     NA's   :632     NA's   :632    \n",
       "     job1d           job1e          job1f            job2           job3a      \n",
       " Min.   :1.000   Min.   :1.00   Min.   :1.000   Min.   :1.000   Min.   :1.000  \n",
       " 1st Qu.:1.000   1st Qu.:1.00   1st Qu.:1.000   1st Qu.:1.000   1st Qu.:1.000  \n",
       " Median :1.000   Median :2.00   Median :1.000   Median :2.000   Median :1.000  \n",
       " Mean   :1.643   Mean   :2.13   Mean   :1.709   Mean   :1.719   Mean   :1.344  \n",
       " 3rd Qu.:2.000   3rd Qu.:3.00   3rd Qu.:2.000   3rd Qu.:2.000   3rd Qu.:2.000  \n",
       " Max.   :9.000   Max.   :9.00   Max.   :9.000   Max.   :8.000   Max.   :2.000  \n",
       " NA's   :632     NA's   :632    NA's   :632                     NA's   :1396   \n",
       "     job3b           job3c           job3d          job3e           job3f      \n",
       " Min.   :1.000   Min.   :1.000   Min.   :1.00   Min.   :1.000   Min.   :1.000  \n",
       " 1st Qu.:1.000   1st Qu.:1.000   1st Qu.:1.00   1st Qu.:1.000   1st Qu.:1.000  \n",
       " Median :1.000   Median :1.000   Median :1.00   Median :2.000   Median :2.000  \n",
       " Mean   :1.456   Mean   :1.359   Mean   :1.22   Mean   :1.689   Mean   :1.694  \n",
       " 3rd Qu.:2.000   3rd Qu.:2.000   3rd Qu.:1.00   3rd Qu.:2.000   3rd Qu.:2.000  \n",
       " Max.   :8.000   Max.   :8.000   Max.   :8.00   Max.   :8.000   Max.   :8.000  \n",
       " NA's   :1396    NA's   :1396    NA's   :1396   NA's   :1396    NA's   :1396   \n",
       "     job3g           job3h            job4            smjob1     \n",
       " Min.   :1.000   Min.   :1.000   Min.   : 1.000   Min.   :1.000  \n",
       " 1st Qu.:1.000   1st Qu.:2.000   1st Qu.: 2.000   1st Qu.:1.000  \n",
       " Median :2.000   Median :2.000   Median : 3.000   Median :2.000  \n",
       " Mean   :1.755   Mean   :2.079   Mean   : 4.687   Mean   :1.633  \n",
       " 3rd Qu.:2.000   3rd Qu.:2.000   3rd Qu.: 4.000   3rd Qu.:2.000  \n",
       " Max.   :8.000   Max.   :9.000   Max.   :99.000   Max.   :2.000  \n",
       " NA's   :1396    NA's   :1396    NA's   :1467     NA's   :674    \n",
       "    smjob2a        smjob2b         smjob2c         smjob2d         smjob2e     \n",
       " Min.   :1.00   Min.   :1.000   Min.   :1.000   Min.   :1.000   Min.   :1.000  \n",
       " 1st Qu.:1.00   1st Qu.:1.000   1st Qu.:1.000   1st Qu.:2.000   1st Qu.:1.000  \n",
       " Median :1.00   Median :1.000   Median :2.000   Median :2.000   Median :1.000  \n",
       " Mean   :1.07   Mean   :1.273   Mean   :1.546   Mean   :1.786   Mean   :1.135  \n",
       " 3rd Qu.:1.00   3rd Qu.:2.000   3rd Qu.:2.000   3rd Qu.:2.000   3rd Qu.:1.000  \n",
       " Max.   :2.00   Max.   :8.000   Max.   :2.000   Max.   :2.000   Max.   :2.000  \n",
       " NA's   :1514   NA's   :1514    NA's   :1514    NA's   :1514    NA's   :1514   \n",
       "     smjob3         smjob4a         smjob4b         smjob4c     \n",
       " Min.   :1.000   Min.   :1.000   Min.   :1.000   Min.   :1.000  \n",
       " 1st Qu.:1.000   1st Qu.:1.000   1st Qu.:1.000   1st Qu.:1.000  \n",
       " Median :2.000   Median :2.000   Median :2.000   Median :2.000  \n",
       " Mean   :1.758   Mean   :1.671   Mean   :1.575   Mean   :1.712  \n",
       " 3rd Qu.:2.000   3rd Qu.:2.000   3rd Qu.:2.000   3rd Qu.:2.000  \n",
       " Max.   :9.000   Max.   :9.000   Max.   :9.000   Max.   :9.000  \n",
       " NA's   :1514    NA's   :1514    NA's   :1514    NA's   :1514   \n",
       "    smjob4d         smjob4e         snsjob1a        snsjob1b    \n",
       " Min.   :1.000   Min.   :1.000   Min.   :1.000   Min.   :1.000  \n",
       " 1st Qu.:2.000   1st Qu.:1.000   1st Qu.:1.000   1st Qu.:2.000  \n",
       " Median :2.000   Median :2.000   Median :2.000   Median :2.000  \n",
       " Mean   :1.825   Mean   :1.591   Mean   :1.679   Mean   :1.824  \n",
       " 3rd Qu.:2.000   3rd Qu.:2.000   3rd Qu.:2.000   3rd Qu.:2.000  \n",
       " Max.   :9.000   Max.   :9.000   Max.   :9.000   Max.   :9.000  \n",
       " NA's   :1514    NA's   :1514    NA's   :778     NA's   :778    \n",
       "    snsjob1c        snsjob2a        snsjob2b         job5a          job5b     \n",
       " Min.   :1.000   Min.   :1.000   Min.   :1.000   Min.   :1.00   Min.   :1.00  \n",
       " 1st Qu.:1.000   1st Qu.:2.000   1st Qu.:2.000   1st Qu.:1.00   1st Qu.:1.00  \n",
       " Median :2.000   Median :2.000   Median :2.000   Median :1.00   Median :1.00  \n",
       " Mean   :1.702   Mean   :1.944   Mean   :2.025   Mean   :1.26   Mean   :1.32  \n",
       " 3rd Qu.:2.000   3rd Qu.:2.000   3rd Qu.:2.000   3rd Qu.:1.00   3rd Qu.:2.00  \n",
       " Max.   :9.000   Max.   :9.000   Max.   :9.000   Max.   :9.00   Max.   :9.00  \n",
       " NA's   :778     NA's   :778     NA's   :778     NA's   :901    NA's   :901   \n",
       "     job5c           job5d           auto1a          auto1b     \n",
       " Min.   :1.000   Min.   :1.000   Min.   :1.000   Min.   :1.000  \n",
       " 1st Qu.:1.000   1st Qu.:1.000   1st Qu.:3.000   1st Qu.:3.000  \n",
       " Median :1.000   Median :1.000   Median :4.000   Median :4.000  \n",
       " Mean   :1.273   Mean   :1.446   Mean   :3.424   Mean   :3.568  \n",
       " 3rd Qu.:1.000   3rd Qu.:2.000   3rd Qu.:4.000   3rd Qu.:4.000  \n",
       " Max.   :9.000   Max.   :9.000   Max.   :9.000   Max.   :9.000  \n",
       " NA's   :901     NA's   :901     NA's   :901     NA's   :901    \n",
       "     auto1c          auto1d          auto1e          auto2           auto3     \n",
       " Min.   :1.000   Min.   :1.000   Min.   :1.000   Min.   :1.000   Min.   :1.00  \n",
       " 1st Qu.:4.000   1st Qu.:3.000   1st Qu.:2.000   1st Qu.:1.000   1st Qu.:2.00  \n",
       " Median :4.000   Median :4.000   Median :4.000   Median :2.000   Median :2.00  \n",
       " Mean   :3.644   Mean   :3.356   Mean   :3.258   Mean   :2.037   Mean   :2.44  \n",
       " 3rd Qu.:4.000   3rd Qu.:4.000   3rd Qu.:4.000   3rd Qu.:2.000   3rd Qu.:3.00  \n",
       " Max.   :9.000   Max.   :9.000   Max.   :9.000   Max.   :9.000   Max.   :9.00  \n",
       " NA's   :901     NA's   :901     NA's   :901     NA's   :901                   \n",
       "      age           marital           hh1             par       \n",
       " Min.   :18.00   Min.   :1.000   Min.   :1.000   Min.   :1.000  \n",
       " 1st Qu.:36.00   1st Qu.:1.000   1st Qu.:2.000   1st Qu.:2.000  \n",
       " Median :53.00   Median :1.000   Median :2.000   Median :2.000  \n",
       " Mean   :52.11   Mean   :2.789   Mean   :2.217   Mean   :1.825  \n",
       " 3rd Qu.:66.00   3rd Qu.:5.000   3rd Qu.:2.000   3rd Qu.:2.000  \n",
       " Max.   :99.00   Max.   :9.000   Max.   :9.000   Max.   :9.000  \n",
       "                                                                \n",
       "    kidage1          kidage2          kidage3           educ2      \n",
       " Min.   :0.0000   Min.   :0.0000   Min.   :0.0000   Min.   : 1.00  \n",
       " 1st Qu.:0.0000   1st Qu.:0.0000   1st Qu.:0.0000   1st Qu.: 3.00  \n",
       " Median :0.0000   Median :0.0000   Median :1.0000   Median : 5.00  \n",
       " Mean   :0.7317   Mean   :0.7191   Mean   :0.7883   Mean   : 5.83  \n",
       " 3rd Qu.:1.0000   3rd Qu.:1.0000   3rd Qu.:1.0000   3rd Qu.: 6.00  \n",
       " Max.   :9.0000   Max.   :9.0000   Max.   :9.0000   Max.   :99.00  \n",
       " NA's   :1524     NA's   :1524     NA's   :1524                    \n",
       "     edinst           disa           party          partyln     \n",
       " Min.   :1.000   Min.   :1.000   Min.   :1.000   Min.   :1.000  \n",
       " 1st Qu.:2.000   1st Qu.:2.000   1st Qu.:2.000   1st Qu.:2.000  \n",
       " Median :3.000   Median :2.000   Median :2.000   Median :2.000  \n",
       " Mean   :3.681   Mean   :1.866   Mean   :2.607   Mean   :4.659  \n",
       " 3rd Qu.:4.500   3rd Qu.:2.000   3rd Qu.:3.000   3rd Qu.:8.000  \n",
       " Max.   :9.000   Max.   :9.000   Max.   :9.000   Max.   :9.000  \n",
       " NA's   :1766                                    NA's   :1060   \n",
       "      ideo            hisp         birth_hisp         race      \n",
       " Min.   :1.000   Min.   :1.000   Min.   :1.000   Min.   :1.000  \n",
       " 1st Qu.:2.000   1st Qu.:2.000   1st Qu.:1.000   1st Qu.:1.000  \n",
       " Median :3.000   Median :2.000   Median :1.000   Median :1.000  \n",
       " Mean   :3.386   Mean   :1.938   Mean   :1.972   Mean   :1.661  \n",
       " 3rd Qu.:4.000   3rd Qu.:2.000   3rd Qu.:3.000   3rd Qu.:1.000  \n",
       " Max.   :9.000   Max.   :9.000   Max.   :8.000   Max.   :9.000  \n",
       "                                 NA's   :1746                   \n",
       "      inc             ql1a            qc1           zipcode     \n",
       " Min.   : 1.00   Min.   :1.000   Min.   :1.000   Min.   : 1420  \n",
       " 1st Qu.: 3.00   1st Qu.:1.000   1st Qu.:1.000   1st Qu.:28445  \n",
       " Median : 6.00   Median :2.000   Median :2.000   Median :48150  \n",
       " Mean   :19.38   Mean   :1.765   Mean   :1.603   Mean   :52317  \n",
       " 3rd Qu.: 8.00   3rd Qu.:2.000   3rd Qu.:2.000   3rd Qu.:78560  \n",
       " Max.   :99.00   Max.   :9.000   Max.   :9.000   Max.   :99999  \n",
       "                 NA's   :1903    NA's   :701                    \n",
       "     weight         standwt      \n",
       " Min.   :1.000   Min.   :0.3193  \n",
       " 1st Qu.:1.774   1st Qu.:0.5665  \n",
       " Median :2.677   Median :0.8548  \n",
       " Mean   :3.132   Mean   :1.0000  \n",
       " 3rd Qu.:4.097   3rd Qu.:1.3080  \n",
       " Max.   :7.161   Max.   :2.2864  \n",
       "                                 "
      ]
     },
     "metadata": {},
     "output_type": "display_data"
    }
   ],
   "source": [
    "summary(pew_data)"
   ]
  },
  {
   "cell_type": "markdown",
   "metadata": {},
   "source": [
    "## I am considering the following columns as parameters for my kmeans clustering\n",
    "### sex\n",
    "### age\n",
    "### income\n",
    "### state\n",
    "### race\n",
    "### internet users\n",
    "## log transformation to handle outliers\n",
    "### out of the columns i'm using for my kmeans, the possible outliers could be presen in age, income, state and race. \n",
    "### sex would contain only male or female and hence it wouldn't contain any outliers but we'll still apply log for generalisation\n",
    "### since all the options have values more than 1, we don't have to worry about applying log to the columns as whole\n",
    "### also since all the columns we have chosen have numerical data with values not more than 100, we dont have to worry about applying log since it wouldn't cause give us wide range\n"
   ]
  },
  {
   "cell_type": "code",
   "execution_count": 19,
   "metadata": {
    "collapsed": false
   },
   "outputs": [],
   "source": [
    "age <- log(pew_data$age)\n",
    "income <- log(pew_data$inc)\n",
    "state <- log(pew_data$state)\n",
    "race <- log(pew_data$race)\n",
    "sex <- log(pew_data$sex)\n",
    "internet_users <- log(pew_data$eminuse)"
   ]
  },
  {
   "cell_type": "code",
   "execution_count": 20,
   "metadata": {
    "collapsed": true
   },
   "outputs": [],
   "source": [
    "kmeans_df <- data.frame(age, income, state, race, sex, internet_users)"
   ]
  },
  {
   "cell_type": "markdown",
   "metadata": {},
   "source": [
    "## normalizing all the variables I am considering so that the data in the variable fall in the preferred range(0 to 1 in this case) to avoid the possibility of one feature getting shadowed by the other feature with higher value."
   ]
  },
  {
   "cell_type": "code",
   "execution_count": 21,
   "metadata": {
    "collapsed": false
   },
   "outputs": [],
   "source": [
    "kmeans_df$age <- (kmeans_df$age-min(kmeans_df$age))/(max(kmeans_df$age)-min(kmeans_df$age))\n",
    "kmeans_df$income <- (kmeans_df$income - min(kmeans_df$income))/(max(kmeans_df$income)-min(kmeans_df$income))\n",
    "kmeans_df$state <- (kmeans_df$state - min(kmeans_df$state))/(max(kmeans_df$state) - min(kmeans_df$state))\n",
    "kmeans_df$sex <- (kmeans_df$sex - min(kmeans_df$sex))/(max(kmeans_df$sex) - min(kmeans_df$sex))\n",
    "kmeans_df$internet_users <- (kmeans_df$internet_users - min(kmeans_df$internet_users))/(max(kmeans_df$internet_users) - min(kmeans_df$internet_users))"
   ]
  },
  {
   "cell_type": "code",
   "execution_count": 22,
   "metadata": {
    "collapsed": false
   },
   "outputs": [
    {
     "data": {
      "text/html": [
       "<table>\n",
       "<thead><tr><th scope=col>age</th><th scope=col>income</th><th scope=col>state</th><th scope=col>race</th><th scope=col>sex</th><th scope=col>internet_users</th></tr></thead>\n",
       "<tbody>\n",
       "\t<tr><td>0.5630016</td><td>1.0000000</td><td>0.9767657</td><td>0.0000000</td><td>1        </td><td>0.0000000</td></tr>\n",
       "\t<tr><td>0.7348669</td><td>0.3899266</td><td>0.7895096</td><td>0.6931472</td><td>1        </td><td>0.0000000</td></tr>\n",
       "\t<tr><td>0.9174233</td><td>0.2390824</td><td>0.9101221</td><td>0.0000000</td><td>1        </td><td>0.3154649</td></tr>\n",
       "\t<tr><td>0.4684022</td><td>0.3899266</td><td>0.8970441</td><td>0.0000000</td><td>1        </td><td>0.0000000</td></tr>\n",
       "\t<tr><td>0.7531996</td><td>0.2390824</td><td>0.7563370</td><td>0.0000000</td><td>1        </td><td>0.0000000</td></tr>\n",
       "\t<tr><td>0.7882307</td><td>0.4525326</td><td>0.7442163</td><td>0.0000000</td><td>1        </td><td>0.0000000</td></tr>\n",
       "\t<tr><td>0.8131960</td><td>1.0000000</td><td>0.9285324</td><td>0.0000000</td><td>0        </td><td>0.3154649</td></tr>\n",
       "\t<tr><td>0.7966711</td><td>0.4234732</td><td>0.8093943</td><td>0.0000000</td><td>0        </td><td>0.3154649</td></tr>\n",
       "\t<tr><td>0.8525797</td><td>0.3899266</td><td>0.9164117</td><td>0.0000000</td><td>0        </td><td>0.0000000</td></tr>\n",
       "\t<tr><td>0.8212871</td><td>0.2390824</td><td>0.7789367</td><td>0.0000000</td><td>0        </td><td>0.3154649</td></tr>\n",
       "\t<tr><td>0.8822872</td><td>1.0000000</td><td>0.7442163</td><td>0.0000000</td><td>1        </td><td>0.0000000</td></tr>\n",
       "\t<tr><td>0.8525797</td><td>1.0000000</td><td>0.9164117</td><td>0.0000000</td><td>1        </td><td>0.0000000</td></tr>\n",
       "\t<tr><td>0.6223042</td><td>0.4525326</td><td>0.8187699</td><td>0.0000000</td><td>0        </td><td>0.0000000</td></tr>\n",
       "\t<tr><td>0.8292682</td><td>0.3899266</td><td>0.6173142</td><td>0.0000000</td><td>1        </td><td>0.0000000</td></tr>\n",
       "\t<tr><td>0.5108252</td><td>0.9977906</td><td>0.9456720</td><td>0.0000000</td><td>1        </td><td>0.0000000</td></tr>\n",
       "\t<tr><td>0.5243108</td><td>0.4234732</td><td>0.0000000</td><td>0.0000000</td><td>1        </td><td>0.0000000</td></tr>\n",
       "\t<tr><td>0.7796671</td><td>0.3016884</td><td>0.7563370</td><td>0.0000000</td><td>0        </td><td>0.3154649</td></tr>\n",
       "\t<tr><td>0.9242048</td><td>0.3016884</td><td>0.3998254</td><td>0.6931472</td><td>0        </td><td>0.0000000</td></tr>\n",
       "\t<tr><td>0.7796671</td><td>1.0000000</td><td>0.8902375</td><td>0.0000000</td><td>1        </td><td>0.0000000</td></tr>\n",
       "\t<tr><td>0.6863602</td><td>0.4234732</td><td>0.0000000</td><td>0.0000000</td><td>0        </td><td>0.0000000</td></tr>\n",
       "\t<tr><td>0.3188832</td><td>0.1508442</td><td>0.8449442</td><td>1.6094379</td><td>1        </td><td>0.0000000</td></tr>\n",
       "\t<tr><td>0.9105624</td><td>0.3899266</td><td>0.7442163</td><td>0.0000000</td><td>0        </td><td>0.3154649</td></tr>\n",
       "\t<tr><td>0.9633258</td><td>0.0000000</td><td>0.9617050</td><td>0.0000000</td><td>1        </td><td>0.3154649</td></tr>\n",
       "\t<tr><td>0.6761583</td><td>0.3899266</td><td>0.9456720</td><td>0.0000000</td><td>0        </td><td>0.3154649</td></tr>\n",
       "\t<tr><td>0.7966711</td><td>0.4781648</td><td>0.5458466</td><td>0.0000000</td><td>0        </td><td>0.0000000</td></tr>\n",
       "\t<tr><td>0.4065980</td><td>0.4234732</td><td>0.9767657</td><td>0.6931472</td><td>1        </td><td>0.0000000</td></tr>\n",
       "\t<tr><td>0.4535508</td><td>0.3899266</td><td>0.9668274</td><td>0.0000000</td><td>1        </td><td>0.0000000</td></tr>\n",
       "\t<tr><td>0.9105624</td><td>0.0000000</td><td>0.8187699</td><td>0.0000000</td><td>1        </td><td>0.0000000</td></tr>\n",
       "\t<tr><td>0.8449117</td><td>0.3899266</td><td>0.6173142</td><td>0.0000000</td><td>1        </td><td>0.0000000</td></tr>\n",
       "\t<tr><td>0.7348669</td><td>0.3899266</td><td>0.8187699</td><td>0.0000000</td><td>1        </td><td>0.0000000</td></tr>\n",
       "\t<tr><td>...</td><td>...</td><td>...</td><td>...</td><td>...</td><td>...</td></tr>\n",
       "\t<tr><td>0.23784459</td><td>0.0000000 </td><td>0.9564748 </td><td>0.0000000 </td><td>1         </td><td>0.3154649 </td></tr>\n",
       "\t<tr><td>0.76215541</td><td>0.3502494 </td><td>0.7180420 </td><td>0.0000000 </td><td>1         </td><td>0.0000000 </td></tr>\n",
       "\t<tr><td>0.14378808</td><td>0.3016884 </td><td>0.8093943 </td><td>1.0986123 </td><td>0         </td><td>0.0000000 </td></tr>\n",
       "\t<tr><td>0.86762150</td><td>0.3016884 </td><td>0.3443909 </td><td>0.0000000 </td><td>0         </td><td>0.3154649 </td></tr>\n",
       "\t<tr><td>0.27976220</td><td>0.3502494 </td><td>0.7180420 </td><td>0.0000000 </td><td>1         </td><td>0.0000000 </td></tr>\n",
       "\t<tr><td>0.75319956</td><td>1.0000000 </td><td>0.8365221 </td><td>0.0000000 </td><td>1         </td><td>0.0000000 </td></tr>\n",
       "\t<tr><td>0.39007306</td><td>0.3502494 </td><td>0.6173142 </td><td>0.6931472 </td><td>1         </td><td>0.0000000 </td></tr>\n",
       "\t<tr><td>0.21570623</td><td>0.0000000 </td><td>0.6371988 </td><td>0.0000000 </td><td>0         </td><td>0.0000000 </td></tr>\n",
       "\t<tr><td>0.70624675</td><td>0.4781648 </td><td>0.7996508 </td><td>0.0000000 </td><td>0         </td><td>0.0000000 </td></tr>\n",
       "\t<tr><td>0.61091365</td><td>0.0000000 </td><td>0.9564748 </td><td>0.0000000 </td><td>1         </td><td>0.0000000 </td></tr>\n",
       "\t<tr><td>0.23784459</td><td>0.0000000 </td><td>0.8093943 </td><td>0.6931472 </td><td>0         </td><td>0.0000000 </td></tr>\n",
       "\t<tr><td>0.70624675</td><td>1.0000000 </td><td>0.8093943 </td><td>0.0000000 </td><td>1         </td><td>0.0000000 </td></tr>\n",
       "\t<tr><td>0.51082524</td><td>0.2390824 </td><td>0.0000000 </td><td>0.0000000 </td><td>0         </td><td>0.0000000 </td></tr>\n",
       "\t<tr><td>0.03171567</td><td>0.3899266 </td><td>0.9863217 </td><td>0.0000000 </td><td>1         </td><td>0.0000000 </td></tr>\n",
       "\t<tr><td>0.40659801</td><td>0.0000000 </td><td>0.9617050 </td><td>0.0000000 </td><td>1         </td><td>0.0000000 </td></tr>\n",
       "\t<tr><td>0.72548116</td><td>0.4525326 </td><td>0.9164117 </td><td>0.0000000 </td><td>0         </td><td>0.0000000 </td></tr>\n",
       "\t<tr><td>0.69638775</td><td>0.4525326 </td><td>0.4451187 </td><td>0.0000000 </td><td>0         </td><td>0.0000000 </td></tr>\n",
       "\t<tr><td>0.37306906</td><td>0.3899266 </td><td>0.8365221 </td><td>0.0000000 </td><td>1         </td><td>0.0000000 </td></tr>\n",
       "\t<tr><td>0.66577575</td><td>0.3502494 </td><td>0.6173142 </td><td>0.0000000 </td><td>0         </td><td>0.0000000 </td></tr>\n",
       "\t<tr><td>0.73486691</td><td>0.2390824 </td><td>0.8832391 </td><td>1.3862944 </td><td>0         </td><td>0.0000000 </td></tr>\n",
       "\t<tr><td>0.59929749</td><td>0.2390824 </td><td>0.4451187 </td><td>1.7917595 </td><td>0         </td><td>0.3154649 </td></tr>\n",
       "\t<tr><td>0.56300156</td><td>0.3502494 </td><td>0.6727487 </td><td>1.0986123 </td><td>1         </td><td>0.0000000 </td></tr>\n",
       "\t<tr><td>0.81319602</td><td>0.3502494 </td><td>0.9101221 </td><td>0.0000000 </td><td>0         </td><td>0.0000000 </td></tr>\n",
       "\t<tr><td>0.79667107</td><td>0.3016884 </td><td>0.8093943 </td><td>0.0000000 </td><td>1         </td><td>0.0000000 </td></tr>\n",
       "\t<tr><td>0.39007306</td><td>0.0000000 </td><td>0.8970441 </td><td>0.0000000 </td><td>0         </td><td>0.0000000 </td></tr>\n",
       "\t<tr><td>0.45355082</td><td>0.4781648 </td><td>0.7895096 </td><td>0.0000000 </td><td>1         </td><td>0.0000000 </td></tr>\n",
       "\t<tr><td>0.85257973</td><td>0.2390824 </td><td>0.9863217 </td><td>0.0000000 </td><td>1         </td><td>0.0000000 </td></tr>\n",
       "\t<tr><td>0.46840216</td><td>0.3899266 </td><td>0.3443909 </td><td>0.6931472 </td><td>1         </td><td>0.0000000 </td></tr>\n",
       "\t<tr><td>0.64444260</td><td>0.3016884 </td><td>0.8187699 </td><td>0.0000000 </td><td>1         </td><td>0.0000000 </td></tr>\n",
       "\t<tr><td>0.31888315</td><td>0.3502494 </td><td>0.9668274 </td><td>0.0000000 </td><td>1         </td><td>0.0000000 </td></tr>\n",
       "</tbody>\n",
       "</table>\n"
      ],
      "text/latex": [
       "\\begin{tabular}{r|llllll}\n",
       " age & income & state & race & sex & internet\\_users\\\\\n",
       "\\hline\n",
       "\t 0.5630016 & 1.0000000 & 0.9767657 & 0.0000000 & 1         & 0.0000000\\\\\n",
       "\t 0.7348669 & 0.3899266 & 0.7895096 & 0.6931472 & 1         & 0.0000000\\\\\n",
       "\t 0.9174233 & 0.2390824 & 0.9101221 & 0.0000000 & 1         & 0.3154649\\\\\n",
       "\t 0.4684022 & 0.3899266 & 0.8970441 & 0.0000000 & 1         & 0.0000000\\\\\n",
       "\t 0.7531996 & 0.2390824 & 0.7563370 & 0.0000000 & 1         & 0.0000000\\\\\n",
       "\t 0.7882307 & 0.4525326 & 0.7442163 & 0.0000000 & 1         & 0.0000000\\\\\n",
       "\t 0.8131960 & 1.0000000 & 0.9285324 & 0.0000000 & 0         & 0.3154649\\\\\n",
       "\t 0.7966711 & 0.4234732 & 0.8093943 & 0.0000000 & 0         & 0.3154649\\\\\n",
       "\t 0.8525797 & 0.3899266 & 0.9164117 & 0.0000000 & 0         & 0.0000000\\\\\n",
       "\t 0.8212871 & 0.2390824 & 0.7789367 & 0.0000000 & 0         & 0.3154649\\\\\n",
       "\t 0.8822872 & 1.0000000 & 0.7442163 & 0.0000000 & 1         & 0.0000000\\\\\n",
       "\t 0.8525797 & 1.0000000 & 0.9164117 & 0.0000000 & 1         & 0.0000000\\\\\n",
       "\t 0.6223042 & 0.4525326 & 0.8187699 & 0.0000000 & 0         & 0.0000000\\\\\n",
       "\t 0.8292682 & 0.3899266 & 0.6173142 & 0.0000000 & 1         & 0.0000000\\\\\n",
       "\t 0.5108252 & 0.9977906 & 0.9456720 & 0.0000000 & 1         & 0.0000000\\\\\n",
       "\t 0.5243108 & 0.4234732 & 0.0000000 & 0.0000000 & 1         & 0.0000000\\\\\n",
       "\t 0.7796671 & 0.3016884 & 0.7563370 & 0.0000000 & 0         & 0.3154649\\\\\n",
       "\t 0.9242048 & 0.3016884 & 0.3998254 & 0.6931472 & 0         & 0.0000000\\\\\n",
       "\t 0.7796671 & 1.0000000 & 0.8902375 & 0.0000000 & 1         & 0.0000000\\\\\n",
       "\t 0.6863602 & 0.4234732 & 0.0000000 & 0.0000000 & 0         & 0.0000000\\\\\n",
       "\t 0.3188832 & 0.1508442 & 0.8449442 & 1.6094379 & 1         & 0.0000000\\\\\n",
       "\t 0.9105624 & 0.3899266 & 0.7442163 & 0.0000000 & 0         & 0.3154649\\\\\n",
       "\t 0.9633258 & 0.0000000 & 0.9617050 & 0.0000000 & 1         & 0.3154649\\\\\n",
       "\t 0.6761583 & 0.3899266 & 0.9456720 & 0.0000000 & 0         & 0.3154649\\\\\n",
       "\t 0.7966711 & 0.4781648 & 0.5458466 & 0.0000000 & 0         & 0.0000000\\\\\n",
       "\t 0.4065980 & 0.4234732 & 0.9767657 & 0.6931472 & 1         & 0.0000000\\\\\n",
       "\t 0.4535508 & 0.3899266 & 0.9668274 & 0.0000000 & 1         & 0.0000000\\\\\n",
       "\t 0.9105624 & 0.0000000 & 0.8187699 & 0.0000000 & 1         & 0.0000000\\\\\n",
       "\t 0.8449117 & 0.3899266 & 0.6173142 & 0.0000000 & 1         & 0.0000000\\\\\n",
       "\t 0.7348669 & 0.3899266 & 0.8187699 & 0.0000000 & 1         & 0.0000000\\\\\n",
       "\t ... & ... & ... & ... & ... & ...\\\\\n",
       "\t 0.23784459 & 0.0000000  & 0.9564748  & 0.0000000  & 1          & 0.3154649 \\\\\n",
       "\t 0.76215541 & 0.3502494  & 0.7180420  & 0.0000000  & 1          & 0.0000000 \\\\\n",
       "\t 0.14378808 & 0.3016884  & 0.8093943  & 1.0986123  & 0          & 0.0000000 \\\\\n",
       "\t 0.86762150 & 0.3016884  & 0.3443909  & 0.0000000  & 0          & 0.3154649 \\\\\n",
       "\t 0.27976220 & 0.3502494  & 0.7180420  & 0.0000000  & 1          & 0.0000000 \\\\\n",
       "\t 0.75319956 & 1.0000000  & 0.8365221  & 0.0000000  & 1          & 0.0000000 \\\\\n",
       "\t 0.39007306 & 0.3502494  & 0.6173142  & 0.6931472  & 1          & 0.0000000 \\\\\n",
       "\t 0.21570623 & 0.0000000  & 0.6371988  & 0.0000000  & 0          & 0.0000000 \\\\\n",
       "\t 0.70624675 & 0.4781648  & 0.7996508  & 0.0000000  & 0          & 0.0000000 \\\\\n",
       "\t 0.61091365 & 0.0000000  & 0.9564748  & 0.0000000  & 1          & 0.0000000 \\\\\n",
       "\t 0.23784459 & 0.0000000  & 0.8093943  & 0.6931472  & 0          & 0.0000000 \\\\\n",
       "\t 0.70624675 & 1.0000000  & 0.8093943  & 0.0000000  & 1          & 0.0000000 \\\\\n",
       "\t 0.51082524 & 0.2390824  & 0.0000000  & 0.0000000  & 0          & 0.0000000 \\\\\n",
       "\t 0.03171567 & 0.3899266  & 0.9863217  & 0.0000000  & 1          & 0.0000000 \\\\\n",
       "\t 0.40659801 & 0.0000000  & 0.9617050  & 0.0000000  & 1          & 0.0000000 \\\\\n",
       "\t 0.72548116 & 0.4525326  & 0.9164117  & 0.0000000  & 0          & 0.0000000 \\\\\n",
       "\t 0.69638775 & 0.4525326  & 0.4451187  & 0.0000000  & 0          & 0.0000000 \\\\\n",
       "\t 0.37306906 & 0.3899266  & 0.8365221  & 0.0000000  & 1          & 0.0000000 \\\\\n",
       "\t 0.66577575 & 0.3502494  & 0.6173142  & 0.0000000  & 0          & 0.0000000 \\\\\n",
       "\t 0.73486691 & 0.2390824  & 0.8832391  & 1.3862944  & 0          & 0.0000000 \\\\\n",
       "\t 0.59929749 & 0.2390824  & 0.4451187  & 1.7917595  & 0          & 0.3154649 \\\\\n",
       "\t 0.56300156 & 0.3502494  & 0.6727487  & 1.0986123  & 1          & 0.0000000 \\\\\n",
       "\t 0.81319602 & 0.3502494  & 0.9101221  & 0.0000000  & 0          & 0.0000000 \\\\\n",
       "\t 0.79667107 & 0.3016884  & 0.8093943  & 0.0000000  & 1          & 0.0000000 \\\\\n",
       "\t 0.39007306 & 0.0000000  & 0.8970441  & 0.0000000  & 0          & 0.0000000 \\\\\n",
       "\t 0.45355082 & 0.4781648  & 0.7895096  & 0.0000000  & 1          & 0.0000000 \\\\\n",
       "\t 0.85257973 & 0.2390824  & 0.9863217  & 0.0000000  & 1          & 0.0000000 \\\\\n",
       "\t 0.46840216 & 0.3899266  & 0.3443909  & 0.6931472  & 1          & 0.0000000 \\\\\n",
       "\t 0.64444260 & 0.3016884  & 0.8187699  & 0.0000000  & 1          & 0.0000000 \\\\\n",
       "\t 0.31888315 & 0.3502494  & 0.9668274  & 0.0000000  & 1          & 0.0000000 \\\\\n",
       "\\end{tabular}\n"
      ],
      "text/markdown": [
       "\n",
       "age | income | state | race | sex | internet_users | \n",
       "|---|---|---|---|---|---|---|---|---|---|---|---|---|---|---|---|---|---|---|---|---|---|---|---|---|---|---|---|---|---|---|---|---|---|---|---|---|---|---|---|---|---|---|---|---|---|---|---|---|---|---|---|---|---|---|---|---|---|---|---|---|\n",
       "| 0.5630016 | 1.0000000 | 0.9767657 | 0.0000000 | 1         | 0.0000000 | \n",
       "| 0.7348669 | 0.3899266 | 0.7895096 | 0.6931472 | 1         | 0.0000000 | \n",
       "| 0.9174233 | 0.2390824 | 0.9101221 | 0.0000000 | 1         | 0.3154649 | \n",
       "| 0.4684022 | 0.3899266 | 0.8970441 | 0.0000000 | 1         | 0.0000000 | \n",
       "| 0.7531996 | 0.2390824 | 0.7563370 | 0.0000000 | 1         | 0.0000000 | \n",
       "| 0.7882307 | 0.4525326 | 0.7442163 | 0.0000000 | 1         | 0.0000000 | \n",
       "| 0.8131960 | 1.0000000 | 0.9285324 | 0.0000000 | 0         | 0.3154649 | \n",
       "| 0.7966711 | 0.4234732 | 0.8093943 | 0.0000000 | 0         | 0.3154649 | \n",
       "| 0.8525797 | 0.3899266 | 0.9164117 | 0.0000000 | 0         | 0.0000000 | \n",
       "| 0.8212871 | 0.2390824 | 0.7789367 | 0.0000000 | 0         | 0.3154649 | \n",
       "| 0.8822872 | 1.0000000 | 0.7442163 | 0.0000000 | 1         | 0.0000000 | \n",
       "| 0.8525797 | 1.0000000 | 0.9164117 | 0.0000000 | 1         | 0.0000000 | \n",
       "| 0.6223042 | 0.4525326 | 0.8187699 | 0.0000000 | 0         | 0.0000000 | \n",
       "| 0.8292682 | 0.3899266 | 0.6173142 | 0.0000000 | 1         | 0.0000000 | \n",
       "| 0.5108252 | 0.9977906 | 0.9456720 | 0.0000000 | 1         | 0.0000000 | \n",
       "| 0.5243108 | 0.4234732 | 0.0000000 | 0.0000000 | 1         | 0.0000000 | \n",
       "| 0.7796671 | 0.3016884 | 0.7563370 | 0.0000000 | 0         | 0.3154649 | \n",
       "| 0.9242048 | 0.3016884 | 0.3998254 | 0.6931472 | 0         | 0.0000000 | \n",
       "| 0.7796671 | 1.0000000 | 0.8902375 | 0.0000000 | 1         | 0.0000000 | \n",
       "| 0.6863602 | 0.4234732 | 0.0000000 | 0.0000000 | 0         | 0.0000000 | \n",
       "| 0.3188832 | 0.1508442 | 0.8449442 | 1.6094379 | 1         | 0.0000000 | \n",
       "| 0.9105624 | 0.3899266 | 0.7442163 | 0.0000000 | 0         | 0.3154649 | \n",
       "| 0.9633258 | 0.0000000 | 0.9617050 | 0.0000000 | 1         | 0.3154649 | \n",
       "| 0.6761583 | 0.3899266 | 0.9456720 | 0.0000000 | 0         | 0.3154649 | \n",
       "| 0.7966711 | 0.4781648 | 0.5458466 | 0.0000000 | 0         | 0.0000000 | \n",
       "| 0.4065980 | 0.4234732 | 0.9767657 | 0.6931472 | 1         | 0.0000000 | \n",
       "| 0.4535508 | 0.3899266 | 0.9668274 | 0.0000000 | 1         | 0.0000000 | \n",
       "| 0.9105624 | 0.0000000 | 0.8187699 | 0.0000000 | 1         | 0.0000000 | \n",
       "| 0.8449117 | 0.3899266 | 0.6173142 | 0.0000000 | 1         | 0.0000000 | \n",
       "| 0.7348669 | 0.3899266 | 0.8187699 | 0.0000000 | 1         | 0.0000000 | \n",
       "| ... | ... | ... | ... | ... | ... | \n",
       "| 0.23784459 | 0.0000000  | 0.9564748  | 0.0000000  | 1          | 0.3154649  | \n",
       "| 0.76215541 | 0.3502494  | 0.7180420  | 0.0000000  | 1          | 0.0000000  | \n",
       "| 0.14378808 | 0.3016884  | 0.8093943  | 1.0986123  | 0          | 0.0000000  | \n",
       "| 0.86762150 | 0.3016884  | 0.3443909  | 0.0000000  | 0          | 0.3154649  | \n",
       "| 0.27976220 | 0.3502494  | 0.7180420  | 0.0000000  | 1          | 0.0000000  | \n",
       "| 0.75319956 | 1.0000000  | 0.8365221  | 0.0000000  | 1          | 0.0000000  | \n",
       "| 0.39007306 | 0.3502494  | 0.6173142  | 0.6931472  | 1          | 0.0000000  | \n",
       "| 0.21570623 | 0.0000000  | 0.6371988  | 0.0000000  | 0          | 0.0000000  | \n",
       "| 0.70624675 | 0.4781648  | 0.7996508  | 0.0000000  | 0          | 0.0000000  | \n",
       "| 0.61091365 | 0.0000000  | 0.9564748  | 0.0000000  | 1          | 0.0000000  | \n",
       "| 0.23784459 | 0.0000000  | 0.8093943  | 0.6931472  | 0          | 0.0000000  | \n",
       "| 0.70624675 | 1.0000000  | 0.8093943  | 0.0000000  | 1          | 0.0000000  | \n",
       "| 0.51082524 | 0.2390824  | 0.0000000  | 0.0000000  | 0          | 0.0000000  | \n",
       "| 0.03171567 | 0.3899266  | 0.9863217  | 0.0000000  | 1          | 0.0000000  | \n",
       "| 0.40659801 | 0.0000000  | 0.9617050  | 0.0000000  | 1          | 0.0000000  | \n",
       "| 0.72548116 | 0.4525326  | 0.9164117  | 0.0000000  | 0          | 0.0000000  | \n",
       "| 0.69638775 | 0.4525326  | 0.4451187  | 0.0000000  | 0          | 0.0000000  | \n",
       "| 0.37306906 | 0.3899266  | 0.8365221  | 0.0000000  | 1          | 0.0000000  | \n",
       "| 0.66577575 | 0.3502494  | 0.6173142  | 0.0000000  | 0          | 0.0000000  | \n",
       "| 0.73486691 | 0.2390824  | 0.8832391  | 1.3862944  | 0          | 0.0000000  | \n",
       "| 0.59929749 | 0.2390824  | 0.4451187  | 1.7917595  | 0          | 0.3154649  | \n",
       "| 0.56300156 | 0.3502494  | 0.6727487  | 1.0986123  | 1          | 0.0000000  | \n",
       "| 0.81319602 | 0.3502494  | 0.9101221  | 0.0000000  | 0          | 0.0000000  | \n",
       "| 0.79667107 | 0.3016884  | 0.8093943  | 0.0000000  | 1          | 0.0000000  | \n",
       "| 0.39007306 | 0.0000000  | 0.8970441  | 0.0000000  | 0          | 0.0000000  | \n",
       "| 0.45355082 | 0.4781648  | 0.7895096  | 0.0000000  | 1          | 0.0000000  | \n",
       "| 0.85257973 | 0.2390824  | 0.9863217  | 0.0000000  | 1          | 0.0000000  | \n",
       "| 0.46840216 | 0.3899266  | 0.3443909  | 0.6931472  | 1          | 0.0000000  | \n",
       "| 0.64444260 | 0.3016884  | 0.8187699  | 0.0000000  | 1          | 0.0000000  | \n",
       "| 0.31888315 | 0.3502494  | 0.9668274  | 0.0000000  | 1          | 0.0000000  | \n",
       "\n",
       "\n"
      ],
      "text/plain": [
       "     age        income    state     race      sex internet_users\n",
       "1    0.5630016  1.0000000 0.9767657 0.0000000 1   0.0000000     \n",
       "2    0.7348669  0.3899266 0.7895096 0.6931472 1   0.0000000     \n",
       "3    0.9174233  0.2390824 0.9101221 0.0000000 1   0.3154649     \n",
       "4    0.4684022  0.3899266 0.8970441 0.0000000 1   0.0000000     \n",
       "5    0.7531996  0.2390824 0.7563370 0.0000000 1   0.0000000     \n",
       "6    0.7882307  0.4525326 0.7442163 0.0000000 1   0.0000000     \n",
       "7    0.8131960  1.0000000 0.9285324 0.0000000 0   0.3154649     \n",
       "8    0.7966711  0.4234732 0.8093943 0.0000000 0   0.3154649     \n",
       "9    0.8525797  0.3899266 0.9164117 0.0000000 0   0.0000000     \n",
       "10   0.8212871  0.2390824 0.7789367 0.0000000 0   0.3154649     \n",
       "11   0.8822872  1.0000000 0.7442163 0.0000000 1   0.0000000     \n",
       "12   0.8525797  1.0000000 0.9164117 0.0000000 1   0.0000000     \n",
       "13   0.6223042  0.4525326 0.8187699 0.0000000 0   0.0000000     \n",
       "14   0.8292682  0.3899266 0.6173142 0.0000000 1   0.0000000     \n",
       "15   0.5108252  0.9977906 0.9456720 0.0000000 1   0.0000000     \n",
       "16   0.5243108  0.4234732 0.0000000 0.0000000 1   0.0000000     \n",
       "17   0.7796671  0.3016884 0.7563370 0.0000000 0   0.3154649     \n",
       "18   0.9242048  0.3016884 0.3998254 0.6931472 0   0.0000000     \n",
       "19   0.7796671  1.0000000 0.8902375 0.0000000 1   0.0000000     \n",
       "20   0.6863602  0.4234732 0.0000000 0.0000000 0   0.0000000     \n",
       "21   0.3188832  0.1508442 0.8449442 1.6094379 1   0.0000000     \n",
       "22   0.9105624  0.3899266 0.7442163 0.0000000 0   0.3154649     \n",
       "23   0.9633258  0.0000000 0.9617050 0.0000000 1   0.3154649     \n",
       "24   0.6761583  0.3899266 0.9456720 0.0000000 0   0.3154649     \n",
       "25   0.7966711  0.4781648 0.5458466 0.0000000 0   0.0000000     \n",
       "26   0.4065980  0.4234732 0.9767657 0.6931472 1   0.0000000     \n",
       "27   0.4535508  0.3899266 0.9668274 0.0000000 1   0.0000000     \n",
       "28   0.9105624  0.0000000 0.8187699 0.0000000 1   0.0000000     \n",
       "29   0.8449117  0.3899266 0.6173142 0.0000000 1   0.0000000     \n",
       "30   0.7348669  0.3899266 0.8187699 0.0000000 1   0.0000000     \n",
       "...  ...        ...       ...       ...       ... ...           \n",
       "1972 0.23784459 0.0000000 0.9564748 0.0000000 1   0.3154649     \n",
       "1973 0.76215541 0.3502494 0.7180420 0.0000000 1   0.0000000     \n",
       "1974 0.14378808 0.3016884 0.8093943 1.0986123 0   0.0000000     \n",
       "1975 0.86762150 0.3016884 0.3443909 0.0000000 0   0.3154649     \n",
       "1976 0.27976220 0.3502494 0.7180420 0.0000000 1   0.0000000     \n",
       "1977 0.75319956 1.0000000 0.8365221 0.0000000 1   0.0000000     \n",
       "1978 0.39007306 0.3502494 0.6173142 0.6931472 1   0.0000000     \n",
       "1979 0.21570623 0.0000000 0.6371988 0.0000000 0   0.0000000     \n",
       "1980 0.70624675 0.4781648 0.7996508 0.0000000 0   0.0000000     \n",
       "1981 0.61091365 0.0000000 0.9564748 0.0000000 1   0.0000000     \n",
       "1982 0.23784459 0.0000000 0.8093943 0.6931472 0   0.0000000     \n",
       "1983 0.70624675 1.0000000 0.8093943 0.0000000 1   0.0000000     \n",
       "1984 0.51082524 0.2390824 0.0000000 0.0000000 0   0.0000000     \n",
       "1985 0.03171567 0.3899266 0.9863217 0.0000000 1   0.0000000     \n",
       "1986 0.40659801 0.0000000 0.9617050 0.0000000 1   0.0000000     \n",
       "1987 0.72548116 0.4525326 0.9164117 0.0000000 0   0.0000000     \n",
       "1988 0.69638775 0.4525326 0.4451187 0.0000000 0   0.0000000     \n",
       "1989 0.37306906 0.3899266 0.8365221 0.0000000 1   0.0000000     \n",
       "1990 0.66577575 0.3502494 0.6173142 0.0000000 0   0.0000000     \n",
       "1991 0.73486691 0.2390824 0.8832391 1.3862944 0   0.0000000     \n",
       "1992 0.59929749 0.2390824 0.4451187 1.7917595 0   0.3154649     \n",
       "1993 0.56300156 0.3502494 0.6727487 1.0986123 1   0.0000000     \n",
       "1994 0.81319602 0.3502494 0.9101221 0.0000000 0   0.0000000     \n",
       "1995 0.79667107 0.3016884 0.8093943 0.0000000 1   0.0000000     \n",
       "1996 0.39007306 0.0000000 0.8970441 0.0000000 0   0.0000000     \n",
       "1997 0.45355082 0.4781648 0.7895096 0.0000000 1   0.0000000     \n",
       "1998 0.85257973 0.2390824 0.9863217 0.0000000 1   0.0000000     \n",
       "1999 0.46840216 0.3899266 0.3443909 0.6931472 1   0.0000000     \n",
       "2000 0.64444260 0.3016884 0.8187699 0.0000000 1   0.0000000     \n",
       "2001 0.31888315 0.3502494 0.9668274 0.0000000 1   0.0000000     "
      ]
     },
     "metadata": {},
     "output_type": "display_data"
    }
   ],
   "source": [
    "kmeans_df"
   ]
  },
  {
   "cell_type": "code",
   "execution_count": 23,
   "metadata": {
    "collapsed": false
   },
   "outputs": [
    {
     "data": {
      "text/html": [
       "<table>\n",
       "<thead><tr><th></th><th scope=col>age</th><th scope=col>income</th><th scope=col>state</th><th scope=col>race</th><th scope=col>sex</th><th scope=col>internet_users</th></tr></thead>\n",
       "<tbody>\n",
       "\t<tr><th scope=row>1</th><td>0.5658991 </td><td>0.4215891 </td><td>0.7752176 </td><td>0.09913617</td><td>0.0000000 </td><td>0.05428930</td></tr>\n",
       "\t<tr><th scope=row>2</th><td>0.6101995 </td><td>0.4232590 </td><td>0.7753613 </td><td>0.09483549</td><td>1.0000000 </td><td>0.05269559</td></tr>\n",
       "\t<tr><th scope=row>3</th><td>0.4890920 </td><td>0.4236748 </td><td>0.7297448 </td><td>1.62389921</td><td>0.4669421 </td><td>0.04562509</td></tr>\n",
       "</tbody>\n",
       "</table>\n"
      ],
      "text/latex": [
       "\\begin{tabular}{r|llllll}\n",
       "  & age & income & state & race & sex & internet\\_users\\\\\n",
       "\\hline\n",
       "\t1 & 0.5658991  & 0.4215891  & 0.7752176  & 0.09913617 & 0.0000000  & 0.05428930\\\\\n",
       "\t2 & 0.6101995  & 0.4232590  & 0.7753613  & 0.09483549 & 1.0000000  & 0.05269559\\\\\n",
       "\t3 & 0.4890920  & 0.4236748  & 0.7297448  & 1.62389921 & 0.4669421  & 0.04562509\\\\\n",
       "\\end{tabular}\n"
      ],
      "text/markdown": [
       "\n",
       "| <!--/--> | age | income | state | race | sex | internet_users | \n",
       "|---|---|---|\n",
       "| 1 | 0.5658991  | 0.4215891  | 0.7752176  | 0.09913617 | 0.0000000  | 0.05428930 | \n",
       "| 2 | 0.6101995  | 0.4232590  | 0.7753613  | 0.09483549 | 1.0000000  | 0.05269559 | \n",
       "| 3 | 0.4890920  | 0.4236748  | 0.7297448  | 1.62389921 | 0.4669421  | 0.04562509 | \n",
       "\n",
       "\n"
      ],
      "text/plain": [
       "  age       income    state     race       sex       internet_users\n",
       "1 0.5658991 0.4215891 0.7752176 0.09913617 0.0000000 0.05428930    \n",
       "2 0.6101995 0.4232590 0.7753613 0.09483549 1.0000000 0.05269559    \n",
       "3 0.4890920 0.4236748 0.7297448 1.62389921 0.4669421 0.04562509    "
      ]
     },
     "metadata": {},
     "output_type": "display_data"
    }
   ],
   "source": [
    "#  for k = 3\n",
    "\n",
    "k1 <-kmeans(kmeans_df, centers=3) \n",
    "k1$centers"
   ]
  },
  {
   "cell_type": "code",
   "execution_count": 24,
   "metadata": {
    "collapsed": false
   },
   "outputs": [
    {
     "data": {
      "text/plain": [
       "\n",
       "  1   2   3 \n",
       "860 899 242 "
      ]
     },
     "metadata": {},
     "output_type": "display_data"
    }
   ],
   "source": [
    "table(k1$cluster)"
   ]
  },
  {
   "cell_type": "code",
   "execution_count": 25,
   "metadata": {
    "collapsed": false
   },
   "outputs": [
    {
     "data": {
      "text/html": [
       "<ol class=list-inline>\n",
       "\t<li>210.705453198525</li>\n",
       "\t<li>228.320407491137</li>\n",
       "\t<li>149.889173303387</li>\n",
       "</ol>\n"
      ],
      "text/latex": [
       "\\begin{enumerate*}\n",
       "\\item 210.705453198525\n",
       "\\item 228.320407491137\n",
       "\\item 149.889173303387\n",
       "\\end{enumerate*}\n"
      ],
      "text/markdown": [
       "1. 210.705453198525\n",
       "2. 228.320407491137\n",
       "3. 149.889173303387\n",
       "\n",
       "\n"
      ],
      "text/plain": [
       "[1] 210.7055 228.3204 149.8892"
      ]
     },
     "metadata": {},
     "output_type": "display_data"
    }
   ],
   "source": [
    "k1$withinss"
   ]
  },
  {
   "cell_type": "code",
   "execution_count": 26,
   "metadata": {
    "collapsed": false
   },
   "outputs": [
    {
     "data": {
      "text/html": [
       "939.389654247301"
      ],
      "text/latex": [
       "939.389654247301"
      ],
      "text/markdown": [
       "939.389654247301"
      ],
      "text/plain": [
       "[1] 939.3897"
      ]
     },
     "metadata": {},
     "output_type": "display_data"
    }
   ],
   "source": [
    "k1$betweenss"
   ]
  },
  {
   "cell_type": "markdown",
   "metadata": {},
   "source": [
    "### we can say that for k =3, cluster 1,2 and  cluster 3 are mainly concentrated around age, income, state while cluster 1 contains maximum values of race. cluster 3 has large value of sex(which is 1) meaning it's only focused on male population. Also the distance between the clusters is big which is good. The other values are fairly distributed across all the clusters.\n",
    "### The sum of distances between the data points in each cluster is less which is good."
   ]
  },
  {
   "cell_type": "code",
   "execution_count": 27,
   "metadata": {
    "collapsed": false,
    "scrolled": true
   },
   "outputs": [
    {
     "data": {
      "text/html": [
       "<table>\n",
       "<thead><tr><th></th><th scope=col>age</th><th scope=col>income</th><th scope=col>state</th><th scope=col>race</th><th scope=col>sex</th><th scope=col>internet_users</th></tr></thead>\n",
       "<tbody>\n",
       "\t<tr><th scope=row>1</th><td>0.6101995 </td><td>0.4232590 </td><td>0.7753613 </td><td>0.09483549</td><td>1.000000  </td><td>0.05269559</td></tr>\n",
       "\t<tr><th scope=row>2</th><td>0.5207598 </td><td>0.4203152 </td><td>0.7208573 </td><td>1.72650434</td><td>0.591623  </td><td>0.05285275</td></tr>\n",
       "\t<tr><th scope=row>3</th><td>0.2835570 </td><td>0.3725624 </td><td>0.7678064 </td><td>0.00000000</td><td>0.000000  </td><td>0.01885248</td></tr>\n",
       "\t<tr><th scope=row>4</th><td>0.4761173 </td><td>0.3770518 </td><td>0.7585326 </td><td>0.85332403</td><td>0.000000  </td><td>0.05801653</td></tr>\n",
       "\t<tr><th scope=row>5</th><td>0.7233563 </td><td>0.4643940 </td><td>0.7837398 </td><td>0.00000000</td><td>0.000000  </td><td>0.06750689</td></tr>\n",
       "</tbody>\n",
       "</table>\n"
      ],
      "text/latex": [
       "\\begin{tabular}{r|llllll}\n",
       "  & age & income & state & race & sex & internet\\_users\\\\\n",
       "\\hline\n",
       "\t1 & 0.6101995  & 0.4232590  & 0.7753613  & 0.09483549 & 1.000000   & 0.05269559\\\\\n",
       "\t2 & 0.5207598  & 0.4203152  & 0.7208573  & 1.72650434 & 0.591623   & 0.05285275\\\\\n",
       "\t3 & 0.2835570  & 0.3725624  & 0.7678064  & 0.00000000 & 0.000000   & 0.01885248\\\\\n",
       "\t4 & 0.4761173  & 0.3770518  & 0.7585326  & 0.85332403 & 0.000000   & 0.05801653\\\\\n",
       "\t5 & 0.7233563  & 0.4643940  & 0.7837398  & 0.00000000 & 0.000000   & 0.06750689\\\\\n",
       "\\end{tabular}\n"
      ],
      "text/markdown": [
       "\n",
       "| <!--/--> | age | income | state | race | sex | internet_users | \n",
       "|---|---|---|---|---|\n",
       "| 1 | 0.6101995  | 0.4232590  | 0.7753613  | 0.09483549 | 1.000000   | 0.05269559 | \n",
       "| 2 | 0.5207598  | 0.4203152  | 0.7208573  | 1.72650434 | 0.591623   | 0.05285275 | \n",
       "| 3 | 0.2835570  | 0.3725624  | 0.7678064  | 0.00000000 | 0.000000   | 0.01885248 | \n",
       "| 4 | 0.4761173  | 0.3770518  | 0.7585326  | 0.85332403 | 0.000000   | 0.05801653 | \n",
       "| 5 | 0.7233563  | 0.4643940  | 0.7837398  | 0.00000000 | 0.000000   | 0.06750689 | \n",
       "\n",
       "\n"
      ],
      "text/plain": [
       "  age       income    state     race       sex      internet_users\n",
       "1 0.6101995 0.4232590 0.7753613 0.09483549 1.000000 0.05269559    \n",
       "2 0.5207598 0.4203152 0.7208573 1.72650434 0.591623 0.05285275    \n",
       "3 0.2835570 0.3725624 0.7678064 0.00000000 0.000000 0.01885248    \n",
       "4 0.4761173 0.3770518 0.7585326 0.85332403 0.000000 0.05801653    \n",
       "5 0.7233563 0.4643940 0.7837398 0.00000000 0.000000 0.06750689    "
      ]
     },
     "metadata": {},
     "output_type": "display_data"
    }
   ],
   "source": [
    "#  for k = 5\n",
    "k2 <-kmeans(kmeans_df, centers=5) \n",
    "k2$centers"
   ]
  },
  {
   "cell_type": "code",
   "execution_count": 28,
   "metadata": {
    "collapsed": false
   },
   "outputs": [
    {
     "data": {
      "text/plain": [
       "\n",
       "  1   2   3   4   5 \n",
       "899 191 251 174 486 "
      ]
     },
     "metadata": {},
     "output_type": "display_data"
    }
   ],
   "source": [
    "table(k2$cluster)"
   ]
  },
  {
   "cell_type": "code",
   "execution_count": 29,
   "metadata": {
    "collapsed": false
   },
   "outputs": [
    {
     "data": {
      "text/html": [
       "<ol class=list-inline>\n",
       "\t<li>228.320407491137</li>\n",
       "\t<li>115.469746355076</li>\n",
       "\t<li>30.5529373532739</li>\n",
       "\t<li>46.0953512743288</li>\n",
       "\t<li>70.1623691770411</li>\n",
       "</ol>\n"
      ],
      "text/latex": [
       "\\begin{enumerate*}\n",
       "\\item 228.320407491137\n",
       "\\item 115.469746355076\n",
       "\\item 30.5529373532739\n",
       "\\item 46.0953512743288\n",
       "\\item 70.1623691770411\n",
       "\\end{enumerate*}\n"
      ],
      "text/markdown": [
       "1. 228.320407491137\n",
       "2. 115.469746355076\n",
       "3. 30.5529373532739\n",
       "4. 46.0953512743288\n",
       "5. 70.1623691770411\n",
       "\n",
       "\n"
      ],
      "text/plain": [
       "[1] 228.32041 115.46975  30.55294  46.09535  70.16237"
      ]
     },
     "metadata": {},
     "output_type": "display_data"
    }
   ],
   "source": [
    "k2$withinss"
   ]
  },
  {
   "cell_type": "code",
   "execution_count": 30,
   "metadata": {
    "collapsed": false
   },
   "outputs": [
    {
     "data": {
      "text/html": [
       "1037.70387658949"
      ],
      "text/latex": [
       "1037.70387658949"
      ],
      "text/markdown": [
       "1037.70387658949"
      ],
      "text/plain": [
       "[1] 1037.704"
      ]
     },
     "metadata": {},
     "output_type": "display_data"
    }
   ],
   "source": [
    "k2$betweenss"
   ]
  },
  {
   "cell_type": "markdown",
   "metadata": {},
   "source": [
    "### we can say that for k =5, cluster 1 is mainly concentrated around sex(value 1 which is male) while cluster 2 contains maximum value of income and sex as 0(female). cluster 3 has maximum value of sex. Cluster 4 has maximum income value and sex value while Cluster 5 has low age and income values, high race value and decent values for all the other variables variables. Also the distance between the clusters is big which is good. \n",
    "\n",
    "### The sum of distances between the data points in all the clusters is quite less like the observation in k = 3. But the values are quite lesser when compared to the values with k=3. So the datapoints came closer for k=5."
   ]
  }
 ],
 "metadata": {
  "anaconda-cloud": {},
  "kernelspec": {
   "display_name": "R",
   "language": "R",
   "name": "ir"
  },
  "language_info": {
   "codemirror_mode": "r",
   "file_extension": ".r",
   "mimetype": "text/x-r-source",
   "name": "R",
   "pygments_lexer": "r",
   "version": "3.3.2"
  }
 },
 "nbformat": 4,
 "nbformat_minor": 1
}
